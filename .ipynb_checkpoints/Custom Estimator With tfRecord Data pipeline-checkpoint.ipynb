{
 "cells": [
  {
   "cell_type": "code",
   "execution_count": 1,
   "metadata": {},
   "outputs": [],
   "source": [
    "import os\n",
    "import pickle\n",
    "import numpy as np\n",
    "import pandas as pd\n",
    "import tensorflow as tf"
   ]
  },
  {
   "cell_type": "code",
   "execution_count": 2,
   "metadata": {},
   "outputs": [],
   "source": [
    "def open_file(self, features, file_name, csv_sep):\n",
    "  \"\"\"\n",
    "  Initialize the object for TFRecordConverter\n",
    "  Arguments:\n",
    "  features - list of columns to use from file\n",
    "  file_name - the path to file to convert\n",
    "  file_format - format of the file\n",
    "  csv_sep - if csv file, separator to be used\n",
    "  \"\"\"\n",
    "  return pd.read_csv(file_name,sep=csv_sep,usecols=features)\n",
    "\n",
    "def create_feature_lists(data):\n",
    "  \"\"\"\n",
    "  Creates the dictionary of features that can be used by tf.train.Example\n",
    "  \"\"\"\n",
    "  features = {}\n",
    "  types = {}\n",
    "  for f in self.feat:\n",
    "    if 'float' in type(data[f][0]):\n",
    "      features[f] = tf.train.Feature(float_list=tf.train.FloatList(value=data[f]))\n",
    "      types[f] = 'float'\n",
    "    elif 'int' in type(data[f][0]):\n",
    "      features[f] = tf.train.Feature(int64_list=tf.train.Int64List(value=data[f]))\n",
    "      types[f] = 'int'\n",
    "    elif 'str' in type(data[f][0]):\n",
    "      features[f] = tf.train.Feature(bytes_list=tf.train.BytesList(value=data[f].str.encode('utf-8')))\n",
    "      types[f] = 'str'\n",
    "\n",
    "  example = tf.train.Example(features=tf.train.Features(self.features_dict))\n",
    "  with tf.python_io.TFRecordWriter(self.file_name.strip().split('csv')[0]+'tfrecord') as writer:\n",
    "    writer.write(example.SerializeToString())\n",
    "  \n",
    "  return features, types"
   ]
  },
  {
   "cell_type": "code",
   "execution_count": null,
   "metadata": {},
   "outputs": [],
   "source": [
    "class Estimator_Helper():\n",
    "  \n",
    "  def __init__(self, filenames, types):\n",
    "    \"\"\"\n",
    "    Initialize the object for TFRecordConverter\n",
    "    Arguments:\n",
    "    features - list of columns to use from file\n",
    "    file_name - the path to file to convert\n",
    "    file_format - format of the file\n",
    "    csv_sep - if csv file, separator to be used\n",
    "    \"\"\"\n",
    "    self.file_names = filenames\n",
    "    self.types = types\n",
    "  \n",
    "  def _tfrecord_extractor_(record):\n",
    "    \"\"\"\n",
    "    Uses the types of features created using the TFRecord convertor to extract the encoded data\n",
    "    \"\"\"\n",
    "    features = {}\n",
    "    for f in self.types.keys():\n",
    "      if self.types[f] == 'float':\n",
    "        features[f] = tf.FixedLenFeature([], tf.float32)\n",
    "      elif self.types[f] == 'int':\n",
    "        features[f] = tf.FixedLenFeature([], tf.int64)\n",
    "      elif self.types[f] == 'str':\n",
    "        features[f] = tf.FixedLenFeature([], tf.string)\n",
    "    \n",
    "    sample = tf.parse_single_example(record, features)\n",
    "    return sample\n",
    "  \n",
    "  def train_input_fn(self,batch_size)"
   ]
  },
  {
   "cell_type": "code",
   "execution_count": 1,
   "metadata": {},
   "outputs": [],
   "source": [
    "# Data pipeline using TFRecord files\n",
    "# TPUEstimator or normal estimator mentioned using model configuration\n",
    "# Train, Eval and Predict functions for Estimator"
   ]
  }
 ],
 "metadata": {
  "kernelspec": {
   "display_name": "Python 3",
   "language": "python",
   "name": "python3"
  },
  "language_info": {
   "codemirror_mode": {
    "name": "ipython",
    "version": 3
   },
   "file_extension": ".py",
   "mimetype": "text/x-python",
   "name": "python",
   "nbconvert_exporter": "python",
   "pygments_lexer": "ipython3",
   "version": "3.6.8"
  }
 },
 "nbformat": 4,
 "nbformat_minor": 2
}
