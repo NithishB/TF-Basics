{
 "cells": [
  {
   "cell_type": "code",
   "execution_count": 1,
   "metadata": {},
   "outputs": [],
   "source": [
    "import tensorflow as tf\n",
    "import pandas as pd\n",
    "import numpy as np\n",
    "import pickle\n",
    "import os"
   ]
  },
  {
   "cell_type": "code",
   "execution_count": 6,
   "metadata": {},
   "outputs": [],
   "source": [
    "class TFRecordConverter():\n",
    "  \n",
    "  def __init__(self, features, file_name, file_format, csv_sep=None):\n",
    "    \"\"\"\n",
    "    Initialize the object for TFRecordConverter\n",
    "    Arguments:\n",
    "    features - list of columns to use from file\n",
    "    file_name - the path to file to convert\n",
    "    file_format - format of the file\n",
    "    csv_sep - if csv file, separator to be used\n",
    "    \"\"\"\n",
    "    self.feat = features\n",
    "    self.filename = file_name\n",
    "    self.fileformat = file_format\n",
    "    if file_format == 'csv':\n",
    "      self.data = pd.read_csv(file_name,sep=csv_sep,usecols=features)\n",
    "\n",
    "  def create_feature_lists(self):\n",
    "    \"\"\"\n",
    "    Creates the dictionary of features that can be used by tf.train.Example\n",
    "    \"\"\"\n",
    "    self.features = {}\n",
    "    self.types = []\n",
    "    for f in self.feat:\n",
    "      if 'float' in type(self.data[f][0]):\n",
    "        self.features[f] = tf.train.Feature(float_list=tf.train.FloatList(value=self.data[f]))\n",
    "        self.types.append('float')\n",
    "      elif 'int' in type(self.data[f][0]):\n",
    "        self.features[f] = tf.train.Feature(int64_list=tf.train.Int64List(value=self.data[f]))\n",
    "        self.types.append('int')\n",
    "      elif 'str' in type(self.data[f][0]):\n",
    "        self.features[f] = tf.train.Feature(bytes_list=tf.train.BytesList(value=self.data[f].str.encode('utf-8')))\n",
    "        self.types.append('str')\n",
    "  \n",
    "  def create_example_and_write(self):\n",
    "    \"\"\"\n",
    "    Creates tf.train.Example object\n",
    "    \"\"\"\n",
    "    self.create_future_lists()\n",
    "    example = tf.train.Example(features=tf.train.Features(self.features))\n",
    "    with tf.python_io.TFRecordWriter(self.filename.strip().split(self.fileformat)[0]+'tfrecord') as writer:\n",
    "      writer.write(example.SerializeToString())\n",
    "    pickle.dump(self.types,open(self.filename.strip().split(self.fileformat)[0]+'pkl','wb'))"
   ]
  },
  {
   "cell_type": "code",
   "execution_count": null,
   "metadata": {},
   "outputs": [],
   "source": []
  }
 ],
 "metadata": {
  "kernelspec": {
   "display_name": "Python 3",
   "language": "python",
   "name": "python3"
  },
  "language_info": {
   "codemirror_mode": {
    "name": "ipython",
    "version": 3
   },
   "file_extension": ".py",
   "mimetype": "text/x-python",
   "name": "python",
   "nbconvert_exporter": "python",
   "pygments_lexer": "ipython3",
   "version": "3.6.8"
  }
 },
 "nbformat": 4,
 "nbformat_minor": 2
}
